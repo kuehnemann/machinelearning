{
 "cells": [
  {
   "cell_type": "code",
   "execution_count": 1,
   "metadata": {},
   "outputs": [],
   "source": [
    "import numpy as np\n",
    "import pandas as pd\n",
    "import matplotlib.pyplot as plt"
   ]
  },
  {
   "cell_type": "code",
   "execution_count": 2,
   "metadata": {},
   "outputs": [
    {
     "name": "stdout",
     "output_type": "stream",
     "text": [
      "  Name  x_1  x_2  class\n",
      "0    A  1.0  1.0      1\n",
      "1    B  2.0  0.5      1\n",
      "2    C  1.0  2.5      1\n",
      "3    D  3.0  3.5      2\n",
      "4    E  5.5  3.5      2\n",
      "5    F  5.5  2.5      2\n"
     ]
    }
   ],
   "source": [
    "df = pd.DataFrame({'Name':['A','B','C','D','E','F'], 'x_1':[1.0,2.0,1.0,3.0,5.5,5.5], 'x_2':[1.0,0.5,2.5,3.5,3.5,2.5], 'class':[1,1,1,2,2,2]})\n",
    "print(df)"
   ]
  },
  {
   "cell_type": "code",
   "execution_count": 3,
   "metadata": {},
   "outputs": [
    {
     "data": {
      "text/plain": [
       "<matplotlib.collections.PathCollection at 0x7fdee0fdf350>"
      ]
     },
     "execution_count": 3,
     "metadata": {},
     "output_type": "execute_result"
    },
    {
     "data": {
      "image/png": "[encoded data removed]",
      "text/plain": [
       "<Figure size 432x288 with 1 Axes>"
      ]
     },
     "metadata": {
      "needs_background": "light"
     },
     "output_type": "display_data"
    }
   ],
   "source": [
    "plt.scatter(df['x_1'], df['x_2'])"
   ]
  },
  {
   "cell_type": "code",
   "execution_count": 18,
   "metadata": {},
   "outputs": [],
   "source": [
    "def l1norm(x_1,y_1,x_2,y_2):\n",
    "    return abs((x_2-x_1)+(y_2-y_1))\n",
    "def nearestneighbors(df):\n",
    "    for i0 in range(len(df)):\n",
    "        df[\"Nearest_Neighbor\"] = ''\n",
    "        df[\"Distance\"] = np.nan\n",
    "        indexnn = 0\n",
    "        df1 = df.drop(i0)\n",
    "        d0 = l1norm(df.x_1.to_numpy()[i0], df.x_2.to_numpy()[i0], df1.x_1.to_numpy()[0], df1.x_2.to_numpy()[0])\n",
    "        for i1 in range(1,len(df1)):\n",
    "            d = l1norm(df.x_1.to_numpy()[i0], df.x_2.to_numpy()[i0], df1.x_1.to_numpy()[i1], df1.x_2.to_numpy()[i1])\n",
    "            if d < d0:\n",
    "                print(\"condition met!\")\n",
    "                df.Nearest_Neighbor[i0] = df1.Name.to_numpy()[i1]\n",
    "                df.Distance[i0] = d\n",
    "        \n",
    "    return df\n",
    "\n",
    "# I would love to get tupels of:\n",
    "# 1. index of nearest neighbor for point in passed array\n",
    "# 2. distance to that respective point"
   ]
  },
  {
   "cell_type": "code",
   "execution_count": null,
   "metadata": {},
   "outputs": [],
   "source": []
  },
  {
   "cell_type": "code",
   "execution_count": null,
   "metadata": {},
   "outputs": [],
   "source": []
  },
  {
   "cell_type": "code",
   "execution_count": 19,
   "metadata": {},
   "outputs": [
    {
     "name": "stdout",
     "output_type": "stream",
     "text": [
      "condition met!\n",
      "condition met!\n",
      "condition met!\n",
      "condition met!\n",
      "condition met!\n",
      "condition met!\n",
      "condition met!\n",
      "condition met!\n",
      "condition met!\n",
      "condition met!\n",
      "condition met!\n",
      "condition met!\n",
      "condition met!\n",
      "  Name  x_1  x_2  class Nearest Neighbor  Distance Nearest_Neighbor\n",
      "0    A  1.0  1.0      1                        NaN                 \n",
      "1    B  2.0  0.5      1                        NaN                 \n",
      "2    C  1.0  2.5      1                        NaN                 \n",
      "3    D  3.0  3.5      2                C       NaN                 \n",
      "4    E  5.5  3.5      2                        NaN                 \n",
      "5    F  5.5  2.5      2                        1.0                E\n"
     ]
    },
    {
     "name": "stderr",
     "output_type": "stream",
     "text": [
      "/Users/lukaskuhnemann/opt/anaconda3/lib/python3.7/site-packages/ipykernel_launcher.py:14: SettingWithCopyWarning: \n",
      "A value is trying to be set on a copy of a slice from a DataFrame\n",
      "\n",
      "See the caveats in the documentation: https://pandas.pydata.org/pandas-docs/stable/user_guide/indexing.html#returning-a-view-versus-a-copy\n",
      "  \n",
      "/Users/lukaskuhnemann/opt/anaconda3/lib/python3.7/site-packages/ipykernel_launcher.py:15: SettingWithCopyWarning: \n",
      "A value is trying to be set on a copy of a slice from a DataFrame\n",
      "\n",
      "See the caveats in the documentation: https://pandas.pydata.org/pandas-docs/stable/user_guide/indexing.html#returning-a-view-versus-a-copy\n",
      "  from ipykernel import kernelapp as app\n"
     ]
    }
   ],
   "source": [
    "print(nearestneighbors(df))"
   ]
  },
  {
   "cell_type": "code",
   "execution_count": null,
   "metadata": {},
   "outputs": [],
   "source": []
  },
  {
   "cell_type": "code",
   "execution_count": null,
   "metadata": {},
   "outputs": [],
   "source": []
  }
 ],
 "metadata": {
  "kernelspec": {
   "display_name": "Python 3",
   "language": "python",
   "name": "python3"
  },
  "language_info": {
   "codemirror_mode": {
    "name": "ipython",
    "version": 3
   },
   "file_extension": ".py",
   "mimetype": "text/x-python",
   "name": "python",
   "nbconvert_exporter": "python",
   "pygments_lexer": "ipython3",
   "version": "3.7.7"
  }
 },
 "nbformat": 4,
 "nbformat_minor": 4
}
